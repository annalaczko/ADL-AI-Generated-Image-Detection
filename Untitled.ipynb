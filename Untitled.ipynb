{
 "cells": [
  {
   "cell_type": "code",
   "execution_count": 9,
   "id": "4001b25f-5abf-42e7-8398-65befadcd0b1",
   "metadata": {},
   "outputs": [
    {
     "data": {
      "text/plain": [
       "'model_structure_high_quality.pdf'"
      ]
     },
     "execution_count": 9,
     "metadata": {},
     "output_type": "execute_result"
    }
   ],
   "source": [
    "from torchviz import make_dot\n",
    "import torch\n",
    "import torch.nn as nn\n",
    "from NeuralNetworkDIY import ClassifierNetwork, Model\n",
    "\n",
    "# Create a model instance\n",
    "model = ClassifierNetwork((128,128))\n",
    "\n",
    "# Generate a dummy input for the forward pass\n",
    "input_tensor = torch.randn(1, 3, 128, 128)  # Batch size 1, 3 channels, 224x224 image\n",
    "\n",
    "# Pass through the model and create the computation graph\n",
    "output = model(input_tensor)\n",
    "\n",
    "dot = make_dot(output, params=dict(model.named_parameters()))\n",
    "\n",
    "# Render the image to a file\n",
    "dot.render(\"model_structure_high_quality\", format=\"pdf\", cleanup=True)\n"
   ]
  },
  {
   "cell_type": "code",
   "execution_count": 7,
   "id": "573bd0bb-21c6-4e6b-8f4c-4f0581985875",
   "metadata": {},
   "outputs": [
    {
     "data": {
      "text/plain": [
       "graphviz.graphs.Digraph"
      ]
     },
     "execution_count": 7,
     "metadata": {},
     "output_type": "execute_result"
    }
   ],
   "source": [
    "type(dot)"
   ]
  },
  {
   "cell_type": "code",
   "execution_count": null,
   "id": "c3bafd3c-a5f2-4c91-bc06-7fa866102fae",
   "metadata": {},
   "outputs": [],
   "source": []
  }
 ],
 "metadata": {
  "kernelspec": {
   "display_name": "Python [conda env:jupyterlab]",
   "language": "python",
   "name": "conda-env-jupyterlab-py"
  },
  "language_info": {
   "codemirror_mode": {
    "name": "ipython",
    "version": 3
   },
   "file_extension": ".py",
   "mimetype": "text/x-python",
   "name": "python",
   "nbconvert_exporter": "python",
   "pygments_lexer": "ipython3",
   "version": "3.12.8"
  }
 },
 "nbformat": 4,
 "nbformat_minor": 5
}
