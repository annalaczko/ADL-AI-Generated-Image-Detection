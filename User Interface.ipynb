{
 "cells": [
  {
   "cell_type": "code",
   "execution_count": 3,
   "id": "e4867f21-acc8-4a8a-bb24-1403f40a7cf0",
   "metadata": {},
   "outputs": [],
   "source": [
    "import torch\n",
    "from torchvision import transforms\n",
    "from PIL import Image\n",
    "import gradio as gr\n",
    "from NeuralNetworkDIY import ClassifierNetwork, Model\n"
   ]
  },
  {
   "cell_type": "code",
   "execution_count": 6,
   "id": "bd2eb4aa-abe0-45d6-ad8a-117199d60f2a",
   "metadata": {},
   "outputs": [],
   "source": [
    "# model_path = \"model.pth\"\n",
    "# device = torch.device(\"cuda\" if torch.cuda.is_available() else \"cpu\")\n",
    "# model = ClassifierNetwork(IMAGE_SIZE=(128,128))  # Match the training setup\n",
    "# model.load_state_dict(torch.load(model_path, map_location=device))\n",
    "# model.to(device).eval()"
   ]
  },
  {
   "cell_type": "code",
   "execution_count": 7,
   "id": "769e5b66-189b-4259-9cb3-f5ce17413546",
   "metadata": {},
   "outputs": [],
   "source": [
    "transform = transforms.Compose([\n",
    "    transforms.Resize((128, 128)),  # Resize to model's input size\n",
    "    transforms.ToTensor() # Normalize for pretrained models\n",
    "])"
   ]
  },
  {
   "cell_type": "code",
   "execution_count": 8,
   "id": "aeb68b03-fca7-4bda-85a6-4769502fe7ce",
   "metadata": {},
   "outputs": [],
   "source": [
    "class_names = [\"Class 0\", \"Class 1\"]"
   ]
  },
  {
   "cell_type": "code",
   "execution_count": 9,
   "id": "4c2e79d0-b013-4ab5-9237-43f0ac446e0c",
   "metadata": {},
   "outputs": [],
   "source": [
    "def predict(image):\n",
    "    # Preprocess the image\n",
    "    image = Image.fromarray(image)\n",
    "    input_tensor = transform(image).unsqueeze(0).to(device)  # Add batch dimension\n",
    "\n",
    "    # Predict\n",
    "    with torch.no_grad():\n",
    "        output = model(input_tensor)\n",
    "        probabilities = torch.nn.functional.softmax(output[0], dim=0)\n",
    "\n",
    "    # Interpret the result\n",
    "    predicted_class = probabilities.argmax().item()\n",
    "    confidence = probabilities[predicted_class].item()\n",
    "    predicted_class_name = class_names[predicted_class]\n",
    "    return f\"Class: {predicted_class_name}, Confidence: {confidence:.2f}\""
   ]
  },
  {
   "cell_type": "code",
   "execution_count": 12,
   "id": "47cbcd5b-72ee-40eb-aba2-04c3d34f3d4a",
   "metadata": {},
   "outputs": [
    {
     "name": "stdout",
     "output_type": "stream",
     "text": [
      "* Running on local URL:  http://127.0.0.1:7860\n",
      "* Running on public URL: https://cd9c4b38f6ea168476.gradio.live\n",
      "\n",
      "This share link expires in 72 hours. For free permanent hosting and GPU upgrades, run `gradio deploy` from the terminal in the working directory to deploy to Hugging Face Spaces (https://huggingface.co/spaces)\n"
     ]
    },
    {
     "data": {
      "text/html": [
       "<div><iframe src=\"https://cd9c4b38f6ea168476.gradio.live\" width=\"100%\" height=\"500\" allow=\"autoplay; camera; microphone; clipboard-read; clipboard-write;\" frameborder=\"0\" allowfullscreen></iframe></div>"
      ],
      "text/plain": [
       "<IPython.core.display.HTML object>"
      ]
     },
     "metadata": {},
     "output_type": "display_data"
    },
    {
     "data": {
      "text/plain": []
     },
     "execution_count": 12,
     "metadata": {},
     "output_type": "execute_result"
    },
    {
     "name": "stderr",
     "output_type": "stream",
     "text": [
      "Traceback (most recent call last):\n",
      "  File \"C:\\Users\\annal\\anaconda3\\envs\\jupyterlab\\Lib\\site-packages\\gradio\\queueing.py\", line 625, in process_events\n",
      "    response = await route_utils.call_process_api(\n",
      "               ^^^^^^^^^^^^^^^^^^^^^^^^^^^^^^^^^^^\n",
      "  File \"C:\\Users\\annal\\anaconda3\\envs\\jupyterlab\\Lib\\site-packages\\gradio\\route_utils.py\", line 322, in call_process_api\n",
      "    output = await app.get_blocks().process_api(\n",
      "             ^^^^^^^^^^^^^^^^^^^^^^^^^^^^^^^^^^^\n",
      "  File \"C:\\Users\\annal\\anaconda3\\envs\\jupyterlab\\Lib\\site-packages\\gradio\\blocks.py\", line 2042, in process_api\n",
      "    result = await self.call_function(\n",
      "             ^^^^^^^^^^^^^^^^^^^^^^^^^\n",
      "  File \"C:\\Users\\annal\\anaconda3\\envs\\jupyterlab\\Lib\\site-packages\\gradio\\blocks.py\", line 1589, in call_function\n",
      "    prediction = await anyio.to_thread.run_sync(  # type: ignore\n",
      "                 ^^^^^^^^^^^^^^^^^^^^^^^^^^^^^^^^^^^^^^^^^^^^^^^\n",
      "  File \"C:\\Users\\annal\\anaconda3\\envs\\jupyterlab\\Lib\\site-packages\\anyio\\to_thread.py\", line 56, in run_sync\n",
      "    return await get_async_backend().run_sync_in_worker_thread(\n",
      "           ^^^^^^^^^^^^^^^^^^^^^^^^^^^^^^^^^^^^^^^^^^^^^^^^^^^^\n",
      "  File \"C:\\Users\\annal\\anaconda3\\envs\\jupyterlab\\Lib\\site-packages\\anyio\\_backends\\_asyncio.py\", line 2364, in run_sync_in_worker_thread\n",
      "    return await future\n",
      "           ^^^^^^^^^^^^\n",
      "  File \"C:\\Users\\annal\\anaconda3\\envs\\jupyterlab\\Lib\\site-packages\\anyio\\_backends\\_asyncio.py\", line 864, in run\n",
      "    result = context.run(func, *args)\n",
      "             ^^^^^^^^^^^^^^^^^^^^^^^^\n",
      "  File \"C:\\Users\\annal\\anaconda3\\envs\\jupyterlab\\Lib\\site-packages\\gradio\\utils.py\", line 883, in wrapper\n",
      "    response = f(*args, **kwargs)\n",
      "               ^^^^^^^^^^^^^^^^^^\n",
      "  File \"C:\\Users\\annal\\AppData\\Local\\Temp\\ipykernel_6632\\622681943.py\", line 3, in predict\n",
      "    image = Image.fromarray(image)\n",
      "            ^^^^^^^^^^^^^^^^^^^^^^\n",
      "  File \"C:\\Users\\annal\\anaconda3\\envs\\jupyterlab\\Lib\\site-packages\\PIL\\Image.py\", line 3087, in fromarray\n",
      "    arr = obj.__array_interface__\n",
      "          ^^^^^^^^^^^^^^^^^^^^^^^\n",
      "AttributeError: 'dict' object has no attribute '__array_interface__'\n",
      "Traceback (most recent call last):\n",
      "  File \"C:\\Users\\annal\\anaconda3\\envs\\jupyterlab\\Lib\\site-packages\\gradio\\queueing.py\", line 625, in process_events\n",
      "    response = await route_utils.call_process_api(\n",
      "               ^^^^^^^^^^^^^^^^^^^^^^^^^^^^^^^^^^^\n",
      "  File \"C:\\Users\\annal\\anaconda3\\envs\\jupyterlab\\Lib\\site-packages\\gradio\\route_utils.py\", line 322, in call_process_api\n",
      "    output = await app.get_blocks().process_api(\n",
      "             ^^^^^^^^^^^^^^^^^^^^^^^^^^^^^^^^^^^\n",
      "  File \"C:\\Users\\annal\\anaconda3\\envs\\jupyterlab\\Lib\\site-packages\\gradio\\blocks.py\", line 2042, in process_api\n",
      "    result = await self.call_function(\n",
      "             ^^^^^^^^^^^^^^^^^^^^^^^^^\n",
      "  File \"C:\\Users\\annal\\anaconda3\\envs\\jupyterlab\\Lib\\site-packages\\gradio\\blocks.py\", line 1589, in call_function\n",
      "    prediction = await anyio.to_thread.run_sync(  # type: ignore\n",
      "                 ^^^^^^^^^^^^^^^^^^^^^^^^^^^^^^^^^^^^^^^^^^^^^^^\n",
      "  File \"C:\\Users\\annal\\anaconda3\\envs\\jupyterlab\\Lib\\site-packages\\anyio\\to_thread.py\", line 56, in run_sync\n",
      "    return await get_async_backend().run_sync_in_worker_thread(\n",
      "           ^^^^^^^^^^^^^^^^^^^^^^^^^^^^^^^^^^^^^^^^^^^^^^^^^^^^\n",
      "  File \"C:\\Users\\annal\\anaconda3\\envs\\jupyterlab\\Lib\\site-packages\\anyio\\_backends\\_asyncio.py\", line 2364, in run_sync_in_worker_thread\n",
      "    return await future\n",
      "           ^^^^^^^^^^^^\n",
      "  File \"C:\\Users\\annal\\anaconda3\\envs\\jupyterlab\\Lib\\site-packages\\anyio\\_backends\\_asyncio.py\", line 864, in run\n",
      "    result = context.run(func, *args)\n",
      "             ^^^^^^^^^^^^^^^^^^^^^^^^\n",
      "  File \"C:\\Users\\annal\\anaconda3\\envs\\jupyterlab\\Lib\\site-packages\\gradio\\utils.py\", line 883, in wrapper\n",
      "    response = f(*args, **kwargs)\n",
      "               ^^^^^^^^^^^^^^^^^^\n",
      "  File \"C:\\Users\\annal\\AppData\\Local\\Temp\\ipykernel_6632\\622681943.py\", line 3, in predict\n",
      "    image = Image.fromarray(image)\n",
      "            ^^^^^^^^^^^^^^^^^^^^^^\n",
      "  File \"C:\\Users\\annal\\anaconda3\\envs\\jupyterlab\\Lib\\site-packages\\PIL\\Image.py\", line 3087, in fromarray\n",
      "    arr = obj.__array_interface__\n",
      "          ^^^^^^^^^^^^^^^^^^^^^^^\n",
      "AttributeError: 'dict' object has no attribute '__array_interface__'\n"
     ]
    }
   ],
   "source": [
    "# Step 4: Set up Gradio\n",
    "with gr.Blocks() as demo:\n",
    "    with gr.Row():\n",
    "        im = gr.ImageEditor(type=\"numpy\", crop_size=\"1:1\", label=\"Upload and Crop Image\")\n",
    "        result = gr.Textbox(label=\"Prediction\")\n",
    "\n",
    "    im.change(predict, outputs=result, inputs=im)\n",
    "demo.launch(inbrowser=True, show_api=False, share=True)"
   ]
  },
  {
   "cell_type": "code",
   "execution_count": null,
   "id": "1d9e996b-d159-41b8-9598-47760d967a67",
   "metadata": {},
   "outputs": [],
   "source": []
  },
  {
   "cell_type": "code",
   "execution_count": null,
   "id": "1402326a-1f6b-4404-907e-ce763d2042ec",
   "metadata": {},
   "outputs": [],
   "source": []
  }
 ],
 "metadata": {
  "kernelspec": {
   "display_name": "Python 3 (ipykernel)",
   "language": "python",
   "name": "python3"
  },
  "language_info": {
   "codemirror_mode": {
    "name": "ipython",
    "version": 3
   },
   "file_extension": ".py",
   "mimetype": "text/x-python",
   "name": "python",
   "nbconvert_exporter": "python",
   "pygments_lexer": "ipython3",
   "version": "3.12.8"
  }
 },
 "nbformat": 4,
 "nbformat_minor": 5
}
