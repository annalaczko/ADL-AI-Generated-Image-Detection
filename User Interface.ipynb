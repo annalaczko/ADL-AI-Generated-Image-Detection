{
 "cells": [
  {
   "cell_type": "code",
   "execution_count": 1,
   "id": "e4867f21-acc8-4a8a-bb24-1403f40a7cf0",
   "metadata": {},
   "outputs": [
    {
     "name": "stderr",
     "output_type": "stream",
     "text": [
      "C:\\Users\\annal\\anaconda3\\envs\\jupyterlab\\Lib\\site-packages\\tqdm\\auto.py:21: TqdmWarning: IProgress not found. Please update jupyter and ipywidgets. See https://ipywidgets.readthedocs.io/en/stable/user_install.html\n",
      "  from .autonotebook import tqdm as notebook_tqdm\n"
     ]
    }
   ],
   "source": [
    "import torch\n",
    "from torchvision import transforms\n",
    "from PIL import Image\n",
    "import gradio as gr\n",
    "from NeuralNetworkDIY import ClassifierNetwork, Model\n"
   ]
  },
  {
   "cell_type": "code",
   "execution_count": 2,
   "id": "bd2eb4aa-abe0-45d6-ad8a-117199d60f2a",
   "metadata": {},
   "outputs": [
    {
     "data": {
      "text/plain": [
       "NeuralNetworkDIY.Model"
      ]
     },
     "execution_count": 2,
     "metadata": {},
     "output_type": "execute_result"
    }
   ],
   "source": [
    "model_path = \"ADL_model.pth\"\n",
    "device = torch.device(\"cuda\" if torch.cuda.is_available() else \"cpu\")\n",
    "model = torch.load(model_path, weights_only=False)\n",
    "\n",
    "type(model)"
   ]
  },
  {
   "cell_type": "code",
   "execution_count": 3,
   "id": "769e5b66-189b-4259-9cb3-f5ce17413546",
   "metadata": {},
   "outputs": [],
   "source": [
    "transform = transforms.Compose([\n",
    "    transforms.Resize((128, 128)),  # Resize to model's input size\n",
    "    transforms.ToTensor() # Normalize for pretrained models\n",
    "])"
   ]
  },
  {
   "cell_type": "code",
   "execution_count": 4,
   "id": "aeb68b03-fca7-4bda-85a6-4769502fe7ce",
   "metadata": {},
   "outputs": [],
   "source": [
    "class_names = [\"Real\", \"Fake\"]"
   ]
  },
  {
   "cell_type": "code",
   "execution_count": 5,
   "id": "4c2e79d0-b013-4ab5-9237-43f0ac446e0c",
   "metadata": {},
   "outputs": [],
   "source": [
    "def predict(_image):\n",
    "    # Preprocess the image\n",
    "    print(_image)\n",
    "    image=_image.get(\"composite\")\n",
    "    if (image== None ):\n",
    "        image=_image.get(\"background\")\n",
    "        \n",
    "    input_tensor = transform(image).unsqueeze(0).to(device)  # Add batch dimension\n",
    "    print(input_tensor.shape)\n",
    "    # Predict\n",
    "    with torch.no_grad():\n",
    "        output = model.predict(input_tensor)\n",
    "\n",
    "    print(output)\n",
    "\n",
    "    return f\"It is a {class_names[output[0]]} image, with a confidence of {output[1]}\""
   ]
  },
  {
   "cell_type": "code",
   "execution_count": 6,
   "id": "47cbcd5b-72ee-40eb-aba2-04c3d34f3d4a",
   "metadata": {
    "scrolled": true
   },
   "outputs": [
    {
     "name": "stdout",
     "output_type": "stream",
     "text": [
      "* Running on local URL:  http://127.0.0.1:7860\n",
      "* Running on public URL: https://cc01ed17bcd7f66caf.gradio.live\n",
      "\n",
      "This share link expires in 72 hours. For free permanent hosting and GPU upgrades, run `gradio deploy` from the terminal in the working directory to deploy to Hugging Face Spaces (https://huggingface.co/spaces)\n"
     ]
    },
    {
     "data": {
      "text/html": [
       "<div><iframe src=\"https://cc01ed17bcd7f66caf.gradio.live\" width=\"100%\" height=\"500\" allow=\"autoplay; camera; microphone; clipboard-read; clipboard-write;\" frameborder=\"0\" allowfullscreen></iframe></div>"
      ],
      "text/plain": [
       "<IPython.core.display.HTML object>"
      ]
     },
     "metadata": {},
     "output_type": "display_data"
    },
    {
     "data": {
      "text/plain": []
     },
     "execution_count": 6,
     "metadata": {},
     "output_type": "execute_result"
    }
   ],
   "source": [
    "# Step 4: Set up Gradio\n",
    "with gr.Blocks() as demo:\n",
    "    with gr.Row():\n",
    "        im = gr.ImageEditor(type=\"pil\", crop_size=\"1:1\", image_mode=\"RGB\", label=\"Upload and Crop Image\")\n",
    "        result = gr.Textbox(label=\"Prediction\")\n",
    "\n",
    "    im.change(predict, outputs=result, inputs=im)\n",
    "demo.launch(inbrowser=True, show_api=False, share=True)"
   ]
  },
  {
   "cell_type": "code",
   "execution_count": null,
   "id": "1d9e996b-d159-41b8-9598-47760d967a67",
   "metadata": {},
   "outputs": [],
   "source": []
  },
  {
   "cell_type": "code",
   "execution_count": null,
   "id": "1402326a-1f6b-4404-907e-ce763d2042ec",
   "metadata": {},
   "outputs": [],
   "source": []
  },
  {
   "cell_type": "code",
   "execution_count": null,
   "id": "d7f5a99a-f3bd-472b-ba0b-0c96bb738ed5",
   "metadata": {},
   "outputs": [],
   "source": []
  }
 ],
 "metadata": {
  "kernelspec": {
   "display_name": "Python [conda env:jupyterlab]",
   "language": "python",
   "name": "conda-env-jupyterlab-py"
  },
  "language_info": {
   "codemirror_mode": {
    "name": "ipython",
    "version": 3
   },
   "file_extension": ".py",
   "mimetype": "text/x-python",
   "name": "python",
   "nbconvert_exporter": "python",
   "pygments_lexer": "ipython3",
   "version": "3.12.8"
  }
 },
 "nbformat": 4,
 "nbformat_minor": 5
}
