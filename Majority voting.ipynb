{
 "cells": [
  {
   "cell_type": "code",
   "execution_count": 9,
   "id": "fff27112-edda-4b3a-b48f-3ea8ad7b00a6",
   "metadata": {},
   "outputs": [],
   "source": [
    "import os\n",
    "import pandas as pd\n",
    "import glob\n",
    "\n",
    "# Az összes CSV fájl beolvasása, amelyek a 'result' előtaggal kezdődnek a gyökérmappában\n",
    "\n"
   ]
  },
  {
   "cell_type": "code",
   "execution_count": 10,
   "id": "5202608d-7f95-4915-98d7-b3841068c797",
   "metadata": {},
   "outputs": [],
   "source": [
    "csv_files = glob.glob('./result*.csv')\n"
   ]
  },
  {
   "cell_type": "code",
   "execution_count": 25,
   "id": "0f6058a1-7f2c-4a7c-b442-40687a301bd7",
   "metadata": {},
   "outputs": [
    {
     "name": "stdout",
     "output_type": "stream",
     "text": [
      "       index  0  1\n",
      "0          0  1  1\n",
      "1          1  1  1\n",
      "2          2  1  1\n",
      "3          3  1  1\n",
      "4          4  1  1\n",
      "...      ... .. ..\n",
      "34495  34495  0  1\n",
      "34496  34496  0  1\n",
      "34497  34497  0  1\n",
      "34498  34498  0  1\n",
      "34499  34499  0  1\n",
      "\n",
      "[34500 rows x 3 columns]\n"
     ]
    }
   ],
   "source": [
    "dfs = []\n",
    "\n",
    "# Read each CSV file and process it\n",
    "for file in csv_files:\n",
    "    df = pd.read_csv(file)\n",
    "    \n",
    "    # Group by the first column, aggregate the second column with 'first' \n",
    "    # and the third column with mode\n",
    "    grouped = df.groupby(df.columns[0]).agg({\n",
    "        df.columns[1]: 'first',\n",
    "        df.columns[2]: lambda x: x.mode()[0] \n",
    "    }).reset_index()\n",
    "    \n",
    "    # Append the grouped DataFrame to the list\n",
    "    dfs.append(grouped)\n",
    "\n",
    "# Concatenate all the DataFrames into a single DataFrame\n",
    "final_df = pd.concat(dfs, ignore_index=True)\n",
    "\n",
    "# Group by the index and aggregate\n",
    "# You can aggregate based on the index if needed\n",
    "final_grouped = final_df.groupby(final_df.index).agg({\n",
    "    df.columns[1]: 'first',\n",
    "    df.columns[2]: lambda x: x.mode()[0] \n",
    "}).reset_index(drop=False)\n",
    "\n",
    "# Show the final result\n",
    "print(final_grouped)\n"
   ]
  },
  {
   "cell_type": "code",
   "execution_count": 26,
   "id": "b08ca0c2-4113-4e3e-97dc-262903396012",
   "metadata": {},
   "outputs": [],
   "source": [
    "true_labels = final_grouped.iloc[:,1]\n",
    "predicted_labels = final_grouped.iloc[:,2]\n",
    "\n",
    "correct_predictions = (true_labels == predicted_labels).sum()\n",
    "accuracy = correct_predictions / len(final_grouped)*100"
   ]
  },
  {
   "cell_type": "code",
   "execution_count": 27,
   "id": "119bd9ca-c906-4178-9d31-1add363e867b",
   "metadata": {},
   "outputs": [
    {
     "data": {
      "text/plain": [
       "69.56521739130434"
      ]
     },
     "execution_count": 27,
     "metadata": {},
     "output_type": "execute_result"
    }
   ],
   "source": [
    "accuracy"
   ]
  },
  {
   "cell_type": "code",
   "execution_count": null,
   "id": "21857ae7-8509-4063-8f8d-5ad829d7eeb4",
   "metadata": {},
   "outputs": [],
   "source": []
  }
 ],
 "metadata": {
  "kernelspec": {
   "display_name": "Python 3 (ipykernel)",
   "language": "python",
   "name": "python3"
  },
  "language_info": {
   "codemirror_mode": {
    "name": "ipython",
    "version": 3
   },
   "file_extension": ".py",
   "mimetype": "text/x-python",
   "name": "python",
   "nbconvert_exporter": "python",
   "pygments_lexer": "ipython3",
   "version": "3.11.7"
  }
 },
 "nbformat": 4,
 "nbformat_minor": 5
}
