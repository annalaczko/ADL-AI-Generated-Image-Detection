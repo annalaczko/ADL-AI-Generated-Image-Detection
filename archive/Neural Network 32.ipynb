{
 "cells": [
  {
   "cell_type": "code",
   "execution_count": 14,
   "id": "2d279a41-dd62-4745-a957-ad87a0bee98b",
   "metadata": {},
   "outputs": [],
   "source": [
    "import torch\n",
    "import torch.nn as nn\n",
    "import torch.optim as optim\n",
    "from torchvision import datasets, transforms\n",
    "from torch.utils.data import DataLoader, Dataset\n",
    "import torch.nn.functional as F\n",
    "from PIL import Image\n",
    "from torch.optim.lr_scheduler import ReduceLROnPlateau\n",
    "import os\n",
    "import numpy as np\n",
    "import gc\n",
    "import pandas as pd\n"
   ]
  },
  {
   "cell_type": "code",
   "execution_count": 15,
   "id": "785fadde-a1f1-4ad2-a7d9-ed3601710637",
   "metadata": {},
   "outputs": [],
   "source": [
    "mode=\"rgb\""
   ]
  },
  {
   "cell_type": "code",
   "execution_count": 16,
   "id": "66dd787f-d1d4-44a2-9f77-3dc554a3bea3",
   "metadata": {},
   "outputs": [],
   "source": [
    "class CustomImageDataset(Dataset):\n",
    "    def __init__(self, directory):\n",
    "        self.directory = directory\n",
    "        self.image_paths = [os.path.join(directory, f) for f in os.listdir(directory) if f.endswith((\".png\", \".jpg\", \".jpeg\"))]\n",
    "\n",
    "    def __len__(self):\n",
    "        return len(self.image_paths)\n",
    "\n",
    "    def __getitem__(self, idx):\n",
    "        img_path = self.image_paths[idx]\n",
    "        img = Image.open(img_path).convert(\"RGB\")\n",
    "\n",
    "        transform = transforms.ToTensor()\n",
    "        \n",
    "        img= transform(img)\n",
    "        # Extract label from the filename (fake -> 1, real -> 0)\n",
    "        label = 1 if \"fake\" in os.path.basename(img_path).lower() else 0\n",
    "\n",
    "        return img, label, img_path"
   ]
  },
  {
   "cell_type": "code",
   "execution_count": 17,
   "id": "f692af73-4581-40b2-a3ca-210849db7ee4",
   "metadata": {},
   "outputs": [
    {
     "data": {
      "text/plain": [
       "torch.Size([3, 32, 32])"
      ]
     },
     "execution_count": 17,
     "metadata": {},
     "output_type": "execute_result"
    }
   ],
   "source": [
    "# Load datasets using CustomImageDataset\n",
    "train_data = CustomImageDataset(directory=f\"data/processed/32/train/{mode}\")\n",
    "test_data = CustomImageDataset(directory=f\"data/processed/32/valid/{mode}\")\n",
    "\n",
    "train_loader = DataLoader(train_data, batch_size=10000, shuffle=True)\n",
    "test_loader = DataLoader(test_data, batch_size=10000, shuffle=False)\n",
    "\n",
    "train_data.__getitem__(0)[0].shape"
   ]
  },
  {
   "cell_type": "code",
   "execution_count": 18,
   "id": "16001797-53dc-40d3-b5e6-f08253cdd13a",
   "metadata": {},
   "outputs": [],
   "source": [
    "import torch\n",
    "import torch.nn as nn\n",
    "import torch.nn.functional as F\n",
    "\n",
    "class Classifier32(nn.Module):\n",
    "    def __init__(self, IMAGE_SIZE):\n",
    "        super(Classifier32, self).__init__()\n",
    "        self.input_size = IMAGE_SIZE\n",
    "        # First convolutional block\n",
    "        self.conv1 = nn.Conv2d(3, 16, kernel_size=3, padding='same', stride=1)  # Input: 3xHxW, Output: 32xHxW\n",
    "        self.bn1 = nn.BatchNorm2d(16)\n",
    "\n",
    "        # Second convolutional block\n",
    "        self.conv2 = nn.Conv2d(16, 32, kernel_size=3, padding='same', stride=1)  # Output: 64xH/2xW/2\n",
    "        self.bn2 = nn.BatchNorm2d(32)\n",
    "\n",
    "        # Third convolutional block\n",
    "        self.conv3 = nn.Conv2d(32, 64, kernel_size=3, padding='same', stride=1)  # Output: 128xH/4xW/4\n",
    "        self.bn3 = nn.BatchNorm2d(64)\n",
    "\n",
    "        # Calculate the flattened size after convolutions\n",
    "        self._flattened_size = self._compute_flattened_size(self.input_size)\n",
    "\n",
    "        # Fully connected layers\n",
    "        self.fc1 = nn.Linear(self._flattened_size, 512)\n",
    "        self.fc2 = nn.Linear(512, 2)\n",
    "\n",
    "    def _compute_flattened_size(self, input_size):\n",
    "        \"\"\"Compute the size of the tensor after all convolutional and pooling layers.\"\"\"\n",
    "        x = torch.zeros(1, 3, *input_size)\n",
    "        # print(f\"Initial size: {x.size()}\")\n",
    "        x = F.relu(self.bn1(self.conv1(x)))\n",
    "        # print(f\"After pool1: {x.size()}\")\n",
    "        x = F.relu(self.bn2(self.conv2(x)))\n",
    "        # print(f\"After pool2: {x.size()}\")\n",
    "        x = F.relu(self.bn3(self.conv3(x)))\n",
    "        # print(f\"After pool3: {x.size()}\")\n",
    "        return x.numel()\n",
    "\n",
    "    def forward(self, x):\n",
    "        # Convolutional layers\n",
    "        x = F.relu(self.bn1(self.conv1(x)))\n",
    "        x = F.relu(self.bn2(self.conv2(x)))\n",
    "        x = F.relu(self.bn3(self.conv3(x)))\n",
    "        # Flatten the output for the fully connected layers\n",
    "        x = x.view(x.size(0), -1)\n",
    "\n",
    "        # Fully connected layers\n",
    "        x = F.relu(self.fc1(x))\n",
    "        x = self.fc2(x)\n",
    "\n",
    "        return x\n"
   ]
  },
  {
   "cell_type": "code",
   "execution_count": 19,
   "id": "3d947213-65a7-45d0-b715-9d406a196690",
   "metadata": {},
   "outputs": [],
   "source": [
    "torch.cuda.empty_cache()"
   ]
  },
  {
   "cell_type": "code",
   "execution_count": 20,
   "id": "84484b91-0a49-48fd-95a0-04a05e12f805",
   "metadata": {},
   "outputs": [
    {
     "name": "stdout",
     "output_type": "stream",
     "text": [
      "Total size: 75951.30 GB\n"
     ]
    }
   ],
   "source": [
    "total_bytes = sum(torch.cuda.memory_stats().values())\n",
    "total_gbs = total_bytes / (1024 ** 3)\n",
    "print(f\"Total size: {total_gbs:.2f} GB\")\n"
   ]
  },
  {
   "cell_type": "code",
   "execution_count": 21,
   "id": "9b85e679-291b-4fb7-bce1-2cccab5d385a",
   "metadata": {},
   "outputs": [
    {
     "name": "stdout",
     "output_type": "stream",
     "text": [
      "True\n"
     ]
    }
   ],
   "source": [
    "print(torch.cuda.is_available())\n",
    "device = torch.device(\"cuda\" if torch.cuda.is_available() else \"cpu\")\n",
    "IMAGE_SIZE=(32,32)\n",
    "\n",
    "def train(train_loader):\n",
    "    # Initialize the model, loss function, and optimizer\n",
    "    model = Classifier32(IMAGE_SIZE).to(device)\n",
    "    criterion = nn.CrossEntropyLoss()\n",
    "    optimizer = optim.Adam(model.parameters(), lr=0.03)\n",
    "    scheduler = ReduceLROnPlateau(optimizer, mode='min', factor=0.1, patience=1)\n",
    "\n",
    "    #early stopping variables\n",
    "    prev_loss=float('inf')\n",
    "    worse_loss_counter=0\n",
    "    \n",
    "    # Train the model\n",
    "    num_epochs = 10\n",
    "    for epoch in range(num_epochs):\n",
    "        model.train()\n",
    "        running_loss = 0.0\n",
    "        batches=0\n",
    "        for inputs, labels, paths in train_loader:\n",
    "            inputs, labels = inputs.to(device), labels.to(device)\n",
    "            print(f\"Batches: {batches}\", end=\"\\r\")\n",
    "            batches+=1\n",
    "            optimizer.zero_grad()\n",
    "            outputs = model(inputs)\n",
    "            loss = criterion(outputs, labels)\n",
    "            loss.backward()\n",
    "            optimizer.step()\n",
    "            running_loss += loss.item()\n",
    "        prev_loss=running_loss    \n",
    "        print(f\"Epoch {epoch+1}/{num_epochs}, Loss: {running_loss/len(train_loader)}\")\n",
    "        if (running_loss>prev_loss):\n",
    "            worse_loss_counter+=1\n",
    "            if (worse_loss_counter>4):\n",
    "                print(\"Early stopping, results are not improving fast enough\")\n",
    "                break;\n",
    "\n",
    "\n",
    "    return model"
   ]
  },
  {
   "cell_type": "code",
   "execution_count": 22,
   "id": "046db8b1-57a2-447f-939e-5376a01c27d3",
   "metadata": {},
   "outputs": [],
   "source": [
    "# Test the model\n",
    "\n",
    "\n",
    "def predict (model, test_loader):\n",
    "    results={}\n",
    "    \n",
    "    model.eval()\n",
    "    correct = 0\n",
    "    total = 0\n",
    "    with torch.no_grad():\n",
    "        for inputs, labels, paths in test_loader:\n",
    "            inputs, labels = inputs.to(device), labels.to(device)\n",
    "            outputs = model(inputs)\n",
    "            _, predicted = torch.max(outputs, 1)\n",
    "            total += labels.size(0)\n",
    "            correct += (predicted == labels).sum().item()\n",
    "            \n",
    "            for path, true_label, pred_label in zip(paths, labels.cpu().numpy(), predicted.cpu().numpy()):\n",
    "                results[path]=[true_label, pred_label]\n",
    "    \n",
    "    accuracy = 100 * correct / total\n",
    "    print(f\"Test Accuracy: {accuracy}%\")\n",
    "    return results\n"
   ]
  },
  {
   "cell_type": "code",
   "execution_count": 23,
   "id": "6a7031b0-3545-491a-ba93-0d9a820537de",
   "metadata": {},
   "outputs": [
    {
     "name": "stdout",
     "output_type": "stream",
     "text": [
      "Batches: 11\r"
     ]
    },
    {
     "ename": "KeyboardInterrupt",
     "evalue": "",
     "output_type": "error",
     "traceback": [
      "\u001b[1;31m---------------------------------------------------------------------------\u001b[0m",
      "\u001b[1;31mKeyboardInterrupt\u001b[0m                         Traceback (most recent call last)",
      "Cell \u001b[1;32mIn[23], line 1\u001b[0m\n\u001b[1;32m----> 1\u001b[0m model\u001b[38;5;241m=\u001b[39m\u001b[43mtrain\u001b[49m\u001b[43m(\u001b[49m\u001b[43mtrain_loader\u001b[49m\u001b[43m)\u001b[49m\n",
      "Cell \u001b[1;32mIn[21], line 31\u001b[0m, in \u001b[0;36mtrain\u001b[1;34m(train_loader)\u001b[0m\n\u001b[0;32m     29\u001b[0m loss\u001b[38;5;241m.\u001b[39mbackward()\n\u001b[0;32m     30\u001b[0m optimizer\u001b[38;5;241m.\u001b[39mstep()\n\u001b[1;32m---> 31\u001b[0m running_loss \u001b[38;5;241m+\u001b[39m\u001b[38;5;241m=\u001b[39m \u001b[43mloss\u001b[49m\u001b[38;5;241;43m.\u001b[39;49m\u001b[43mitem\u001b[49m\u001b[43m(\u001b[49m\u001b[43m)\u001b[49m\n\u001b[0;32m     33\u001b[0m \u001b[38;5;28;01mif\u001b[39;00m (running_loss\u001b[38;5;241m>\u001b[39mprev_loss):\n\u001b[0;32m     34\u001b[0m     worse_loss_counter\u001b[38;5;241m+\u001b[39m\u001b[38;5;241m=\u001b[39m\u001b[38;5;241m1\u001b[39m\n",
      "\u001b[1;31mKeyboardInterrupt\u001b[0m: "
     ]
    }
   ],
   "source": [
    "model=train(train_loader)"
   ]
  },
  {
   "cell_type": "code",
   "execution_count": null,
   "id": "af32f4af-a196-4ec2-b784-aa18ba6f47b6",
   "metadata": {},
   "outputs": [],
   "source": [
    "result= predict(model, test_loader)"
   ]
  },
  {
   "cell_type": "code",
   "execution_count": null,
   "id": "65527924-d1cc-4f9a-9559-ae7b90b6a21e",
   "metadata": {},
   "outputs": [],
   "source": [
    "df_result=pd.DataFrame(result).transpose()\n",
    "df_result.reset_index(inplace=True)"
   ]
  },
  {
   "cell_type": "code",
   "execution_count": null,
   "id": "acbac4bd-4841-4d55-ba1c-e06d427c7cb0",
   "metadata": {},
   "outputs": [],
   "source": [
    "df_result.to_csv(f\"result_32_{mode}.csv\", index=False)\n"
   ]
  },
  {
   "cell_type": "code",
   "execution_count": null,
   "id": "33a75c78-8ca1-4b1d-8ec6-f59e9d0136ea",
   "metadata": {},
   "outputs": [],
   "source": []
  }
 ],
 "metadata": {
  "kernelspec": {
   "display_name": "Python ADL with GPU",
   "language": "python",
   "name": "adl"
  },
  "language_info": {
   "codemirror_mode": {
    "name": "ipython",
    "version": 3
   },
   "file_extension": ".py",
   "mimetype": "text/x-python",
   "name": "python",
   "nbconvert_exporter": "python",
   "pygments_lexer": "ipython3",
   "version": "3.9.18"
  }
 },
 "nbformat": 4,
 "nbformat_minor": 5
}
