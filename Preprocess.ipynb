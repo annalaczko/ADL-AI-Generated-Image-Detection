{
 "cells": [
  {
   "cell_type": "markdown",
   "id": "59a5de98-cec0-4352-9ef5-2cca0c2f63d1",
   "metadata": {},
   "source": [
    "# Libraries"
   ]
  },
  {
   "cell_type": "code",
   "execution_count": 2,
   "id": "d8f33831-cf5e-46c1-9cee-669f2c632c52",
   "metadata": {},
   "outputs": [],
   "source": [
    "import torch\n",
    "import os\n",
    "import shutil\n",
    "from torchvision import transforms\n",
    "from PIL import Image\n",
    "from tqdm import tqdm\n",
    "import random\n",
    "from glob import glob\n"
   ]
  },
  {
   "cell_type": "markdown",
   "id": "c62a5e36-56aa-4eab-b5c3-72838cfb2ce5",
   "metadata": {},
   "source": [
    "# Preparation:\n",
    "Delete the whole processed_dir structure"
   ]
  },
  {
   "cell_type": "code",
   "execution_count": 3,
   "id": "1418f296-507a-44fd-9952-6d1123d8a5b9",
   "metadata": {},
   "outputs": [],
   "source": [
    "if os.path.exists(PROCESSED_DIR):\n",
    "        shutil.rmtree(PROCESSED_DIR )"
   ]
  },
  {
   "cell_type": "markdown",
   "id": "2572f571-c4a7-421f-b3d0-bc6388913a63",
   "metadata": {},
   "source": [
    "Some global variables"
   ]
  },
  {
   "cell_type": "code",
   "execution_count": 4,
   "id": "b5c66aac-0a2c-42c5-a846-52a9e3238ba7",
   "metadata": {},
   "outputs": [],
   "source": [
    "RAW_DIR = \"data/raw/140k face\"\n",
    "PROCESSED_DIR = \"data/processed\"\n",
    "\n",
    "CATEGORIES = [\"fake\", \"real\"]\n",
    "TRAIN_DIR = os.path.join(PROCESSED_DIR, \"train\")\n",
    "TEST_DIR = os.path.join(PROCESSED_DIR, \"test\")\n",
    "\n",
    "GABOR_TRAIN_DIR = os.path.join(PROCESSED_DIR, \"train\")\n",
    "GABOR_TEST_DIR = os.path.join(PROCESSED_DIR, \"test\")\n",
    "\n",
    "SHARPEN_TRAIN_DIR = os.path.join(PROCESSED_DIR, \"train\")\n",
    "SHARPEN_TEST_DIR = os.path.join(PROCESSED_DIR, \"test\")\n",
    "\n",
    "EDGE_TRAIN_DIR = os.path.join(PROCESSED_DIR, \"train\")\n",
    "EDGE_TEST_DIR = os.path.join(PROCESSED_DIR, \"test\")\n",
    "\n",
    "split_ratio = 0.9\n",
    "random.seed(12347556)\n",
    "\n",
    "BATCH_SIZE = 100\n",
    "IMAGE_SIZE = (32,32)"
   ]
  },
  {
   "cell_type": "markdown",
   "id": "c51b835f-7254-42e7-8892-220d21a10558",
   "metadata": {},
   "source": [
    "# Transformation"
   ]
  },
  {
   "cell_type": "markdown",
   "id": "0c2eb700-8113-4bd9-940c-7688f98e6e7d",
   "metadata": {},
   "source": [
    "The transformation structures"
   ]
  },
  {
   "cell_type": "code",
   "execution_count": 18,
   "id": "06a46dd4-eb5c-4924-9417-76728d66e182",
   "metadata": {},
   "outputs": [],
   "source": [
    "resize_transform = transforms.Compose([\n",
    "    transforms.Resize(IMAGE_SIZE)\n",
    "])\n",
    "\n",
    "augmentation_transforms = transforms.Compose([\n",
    "    transforms.Resize(IMAGE_SIZE),\n",
    "    transforms.RandomHorizontalFlip(p=0.5),\n",
    "    transforms.RandomVerticalFlip(p=0.5),\n",
    "    transforms.RandomRotation(degrees=30),\n",
    "    transforms.ColorJitter(brightness=0.3, contrast=0.4, saturation=0.3, hue=0.2),\n",
    "    transforms.ToTensor()\n",
    "])\n",
    "\n",
    "save_transform = transforms.ToPILImage()\n",
    "\n"
   ]
  },
  {
   "cell_type": "markdown",
   "id": "950e6e3b-e9a2-46cb-8895-ee5858e2537c",
   "metadata": {},
   "source": [
    "Processing normal images"
   ]
  },
  {
   "cell_type": "code",
   "execution_count": 19,
   "id": "ec525a5f-7c9b-4500-ab14-d8751564d310",
   "metadata": {},
   "outputs": [],
   "source": [
    "def process_images(category):    \n",
    "    raw_path = os.path.join(RAW_DIR, category)\n",
    "    processed_path = PROCESSED_DIR\n",
    "    os.makedirs(processed_path, exist_ok=True)\n",
    "\n",
    "    images = [os.path.join(raw_path, f) for f in os.listdir(raw_path) if f.endswith((\".png\", \".jpg\", \".jpeg\"))]\n",
    "\n",
    "    image_counter = 0\n",
    "\n",
    "    def get_unique_filename(base_path, base_name, counter):\n",
    "        while True:\n",
    "            filename = os.path.join(base_path, f\"{base_name}_{counter}.jpg\")\n",
    "            if not os.path.exists(filename):\n",
    "                return filename\n",
    "            counter += 1\n",
    "\n",
    "    for i in tqdm(range(0, 20000, BATCH_SIZE), desc=f\"Processing {category}\"): #len(images)\n",
    "        batch = images[i:i + BATCH_SIZE]\n",
    "        for img_path in batch:\n",
    "            try:\n",
    "                img = Image.open(img_path).convert(\"RGB\")  # Kép betöltése\n",
    "\n",
    "                # Save a simple resized version\n",
    "                resized_img = resize_transform(img)\n",
    "                resized_save_path = get_unique_filename(processed_path, category, image_counter)\n",
    "                resized_img.save(resized_save_path)\n",
    "                image_counter += 1\n",
    "\n",
    "                # Save two augmented versions\n",
    "                for aug_idx in range(0):\n",
    "                    augmented_img = augmentation_transforms(img)  # Apply augmentation\n",
    "                    augmented_img = save_transform(augmented_img)  # Convert tensor to PIL image\n",
    "                    aug_save_path = get_unique_filename(processed_path, category, image_counter)\n",
    "                    augmented_img.save(aug_save_path)\n",
    "                    image_counter += 1\n",
    "\n",
    "            except Exception as e:\n",
    "                print(f\"Error processing {img_path}: {e}\")"
   ]
  },
  {
   "cell_type": "markdown",
   "id": "3857f830-cc92-4267-a52f-dbbfe2647391",
   "metadata": {},
   "source": [
    " move data into respective folder"
   ]
  },
  {
   "cell_type": "code",
   "execution_count": 20,
   "id": "402324e0-0b31-40d0-a318-4d202f5c3ad4",
   "metadata": {},
   "outputs": [],
   "source": [
    "def split_and_move_data(split_ratio):\n",
    "    # Get all image paths from the processed directory\n",
    "    image_paths = [os.path.join(PROCESSED_DIR, f) for f in os.listdir(PROCESSED_DIR) if f.endswith((\".png\", \".jpg\", \".jpeg\"))]\n",
    "    \n",
    "    # Shuffle the image paths for random split\n",
    "    random.shuffle(image_paths)\n",
    "    \n",
    "    # Calculate the split index\n",
    "    split_index = int(len(image_paths) * split_ratio)\n",
    "    \n",
    "    # Split the images into train and test sets\n",
    "    train_images = image_paths[:split_index]\n",
    "    test_images = image_paths[split_index:]\n",
    "    \n",
    "    # Move images to the 'train' directory\n",
    "    for img_path in train_images:\n",
    "        shutil.move(img_path, os.path.join(TRAIN_DIR, os.path.basename(img_path)))\n",
    "    \n",
    "    # Move images to the 'test' directory\n",
    "    for img_path in test_images:\n",
    "        shutil.move(img_path, os.path.join(TEST_DIR, os.path.basename(img_path)))\n",
    "\n",
    "    print(f\"Total images: {len(image_paths)}\")\n",
    "    print(f\"Training set: {len(train_images)}\")\n",
    "    print(f\"Test set: {len(test_images)}\")"
   ]
  },
  {
   "cell_type": "code",
   "execution_count": 21,
   "id": "e0c6e9d0-b202-4269-a67f-2b73b4e913d5",
   "metadata": {},
   "outputs": [],
   "source": [
    "os.makedirs(TRAIN_DIR, exist_ok=True)\n",
    "os.makedirs(TEST_DIR, exist_ok=True)"
   ]
  },
  {
   "cell_type": "code",
   "execution_count": 6,
   "id": "6ccc8d3e-5250-4aec-908d-0f4dcf22ae6f",
   "metadata": {},
   "outputs": [
    {
     "name": "stdout",
     "output_type": "stream",
     "text": [
      "Total images: 2910\n",
      "Training set: 2619\n",
      "Test set: 291\n"
     ]
    }
   ],
   "source": [
    "os.makedirs(TRAIN_DIR, exist_ok=True)\n",
    "os.makedirs(TEST_DIR, exist_ok=True)\n",
    "\n",
    "for category in CATEGORIES:\n",
    "    process_images(category)\n",
    "\n",
    "split_and_move_data(split_ratio)\n"
   ]
  },
  {
   "cell_type": "code",
   "execution_count": 22,
   "id": "cd153626-f8f2-407c-be83-aab4aa1c44cf",
   "metadata": {},
   "outputs": [],
   "source": [
    "RAW_DIR = \"data/raw/140k face\""
   ]
  },
  {
   "cell_type": "code",
   "execution_count": 23,
   "id": "770d5d02-b596-4168-9d15-b0a8db53d0f7",
   "metadata": {},
   "outputs": [
    {
     "name": "stderr",
     "output_type": "stream",
     "text": [
      "Processing fake: 100%|██████████| 200/200 [00:51<00:00,  3.89it/s]\n",
      "Processing real: 100%|██████████| 200/200 [01:35<00:00,  2.10it/s]\n"
     ]
    }
   ],
   "source": [
    "for category in CATEGORIES:\n",
    "    process_images(category)"
   ]
  },
  {
   "cell_type": "code",
   "execution_count": 24,
   "id": "c1cba9b3-02a3-49e4-a033-523ee61baaf9",
   "metadata": {},
   "outputs": [
    {
     "name": "stdout",
     "output_type": "stream",
     "text": [
      "Total images: 40000\n",
      "Training set: 36000\n",
      "Test set: 4000\n"
     ]
    }
   ],
   "source": [
    "split_and_move_data(split_ratio)"
   ]
  },
  {
   "cell_type": "code",
   "execution_count": 13,
   "id": "20b5f6d5-7a73-41c0-a085-af007ca63ad2",
   "metadata": {},
   "outputs": [],
   "source": [
    "RAW_DIR = \"data/raw/archive (2)/train\""
   ]
  },
  {
   "cell_type": "code",
   "execution_count": 14,
   "id": "e4095046-efbe-4cf0-8f00-4d2764178d20",
   "metadata": {},
   "outputs": [
    {
     "name": "stderr",
     "output_type": "stream",
     "text": [
      "Processing fake:   0%|          | 3/3125 [05:48<100:39:41, 116.07s/it]\n"
     ]
    },
    {
     "ename": "KeyboardInterrupt",
     "evalue": "",
     "output_type": "error",
     "traceback": [
      "\u001b[1;31m---------------------------------------------------------------------------\u001b[0m",
      "\u001b[1;31mKeyboardInterrupt\u001b[0m                         Traceback (most recent call last)",
      "Cell \u001b[1;32mIn[14], line 2\u001b[0m\n\u001b[0;32m      1\u001b[0m \u001b[38;5;28;01mfor\u001b[39;00m category \u001b[38;5;129;01min\u001b[39;00m CATEGORIES:\n\u001b[1;32m----> 2\u001b[0m     \u001b[43mprocess_images\u001b[49m\u001b[43m(\u001b[49m\u001b[43mcategory\u001b[49m\u001b[43m)\u001b[49m\n",
      "Cell \u001b[1;32mIn[9], line 33\u001b[0m, in \u001b[0;36mprocess_images\u001b[1;34m(category)\u001b[0m\n\u001b[0;32m     31\u001b[0m augmented_img \u001b[38;5;241m=\u001b[39m augmentation_transforms(img)  \u001b[38;5;66;03m# Apply augmentation\u001b[39;00m\n\u001b[0;32m     32\u001b[0m augmented_img \u001b[38;5;241m=\u001b[39m save_transform(augmented_img)  \u001b[38;5;66;03m# Convert tensor to PIL image\u001b[39;00m\n\u001b[1;32m---> 33\u001b[0m aug_save_path \u001b[38;5;241m=\u001b[39m \u001b[43mget_unique_filename\u001b[49m\u001b[43m(\u001b[49m\u001b[43mprocessed_path\u001b[49m\u001b[43m,\u001b[49m\u001b[43m \u001b[49m\u001b[43mcategory\u001b[49m\u001b[43m,\u001b[49m\u001b[43m \u001b[49m\u001b[43mimage_counter\u001b[49m\u001b[43m)\u001b[49m\n\u001b[0;32m     34\u001b[0m augmented_img\u001b[38;5;241m.\u001b[39msave(aug_save_path)\n\u001b[0;32m     35\u001b[0m image_counter \u001b[38;5;241m+\u001b[39m\u001b[38;5;241m=\u001b[39m \u001b[38;5;241m1\u001b[39m\n",
      "Cell \u001b[1;32mIn[9], line 13\u001b[0m, in \u001b[0;36mprocess_images.<locals>.get_unique_filename\u001b[1;34m(base_path, base_name, counter)\u001b[0m\n\u001b[0;32m     11\u001b[0m \u001b[38;5;28;01mwhile\u001b[39;00m \u001b[38;5;28;01mTrue\u001b[39;00m:\n\u001b[0;32m     12\u001b[0m     filename \u001b[38;5;241m=\u001b[39m os\u001b[38;5;241m.\u001b[39mpath\u001b[38;5;241m.\u001b[39mjoin(base_path, \u001b[38;5;124mf\u001b[39m\u001b[38;5;124m\"\u001b[39m\u001b[38;5;132;01m{\u001b[39;00mbase_name\u001b[38;5;132;01m}\u001b[39;00m\u001b[38;5;124m_\u001b[39m\u001b[38;5;132;01m{\u001b[39;00mcounter\u001b[38;5;132;01m}\u001b[39;00m\u001b[38;5;124m.jpg\u001b[39m\u001b[38;5;124m\"\u001b[39m)\n\u001b[1;32m---> 13\u001b[0m     \u001b[38;5;28;01mif\u001b[39;00m \u001b[38;5;129;01mnot\u001b[39;00m \u001b[43mos\u001b[49m\u001b[38;5;241;43m.\u001b[39;49m\u001b[43mpath\u001b[49m\u001b[38;5;241;43m.\u001b[39;49m\u001b[43mexists\u001b[49m\u001b[43m(\u001b[49m\u001b[43mfilename\u001b[49m\u001b[43m)\u001b[49m:\n\u001b[0;32m     14\u001b[0m         \u001b[38;5;28;01mreturn\u001b[39;00m filename\n\u001b[0;32m     15\u001b[0m     counter \u001b[38;5;241m+\u001b[39m\u001b[38;5;241m=\u001b[39m \u001b[38;5;241m1\u001b[39m\n",
      "File \u001b[1;32m~\\anaconda3\\envs\\ADL\\lib\\genericpath.py:19\u001b[0m, in \u001b[0;36mexists\u001b[1;34m(path)\u001b[0m\n\u001b[0;32m     17\u001b[0m \u001b[38;5;250m\u001b[39m\u001b[38;5;124;03m\"\"\"Test whether a path exists.  Returns False for broken symbolic links\"\"\"\u001b[39;00m\n\u001b[0;32m     18\u001b[0m \u001b[38;5;28;01mtry\u001b[39;00m:\n\u001b[1;32m---> 19\u001b[0m     \u001b[43mos\u001b[49m\u001b[38;5;241;43m.\u001b[39;49m\u001b[43mstat\u001b[49m\u001b[43m(\u001b[49m\u001b[43mpath\u001b[49m\u001b[43m)\u001b[49m\n\u001b[0;32m     20\u001b[0m \u001b[38;5;28;01mexcept\u001b[39;00m (\u001b[38;5;167;01mOSError\u001b[39;00m, \u001b[38;5;167;01mValueError\u001b[39;00m):\n\u001b[0;32m     21\u001b[0m     \u001b[38;5;28;01mreturn\u001b[39;00m \u001b[38;5;28;01mFalse\u001b[39;00m\n",
      "\u001b[1;31mKeyboardInterrupt\u001b[0m: "
     ]
    }
   ],
   "source": [
    "for category in CATEGORIES:\n",
    "    process_images(category)"
   ]
  },
  {
   "cell_type": "code",
   "execution_count": 15,
   "id": "8d1e8d5b-7c86-4565-b8ec-0fb13856150f",
   "metadata": {},
   "outputs": [
    {
     "ename": "FileNotFoundError",
     "evalue": "[Errno 2] No such file or directory: 'data/processed\\\\train\\\\real_27936.jpg'",
     "output_type": "error",
     "traceback": [
      "\u001b[1;31m---------------------------------------------------------------------------\u001b[0m",
      "\u001b[1;31mFileNotFoundError\u001b[0m                         Traceback (most recent call last)",
      "File \u001b[1;32m~\\anaconda3\\envs\\ADL\\lib\\shutil.py:825\u001b[0m, in \u001b[0;36mmove\u001b[1;34m(src, dst, copy_function)\u001b[0m\n\u001b[0;32m    824\u001b[0m \u001b[38;5;28;01mtry\u001b[39;00m:\n\u001b[1;32m--> 825\u001b[0m     \u001b[43mos\u001b[49m\u001b[38;5;241;43m.\u001b[39;49m\u001b[43mrename\u001b[49m\u001b[43m(\u001b[49m\u001b[43msrc\u001b[49m\u001b[43m,\u001b[49m\u001b[43m \u001b[49m\u001b[43mreal_dst\u001b[49m\u001b[43m)\u001b[49m\n\u001b[0;32m    826\u001b[0m \u001b[38;5;28;01mexcept\u001b[39;00m \u001b[38;5;167;01mOSError\u001b[39;00m:\n",
      "\u001b[1;31mFileNotFoundError\u001b[0m: [WinError 3] A rendszer nem találja a megadott elérési utat: 'data/processed\\\\real_27936.jpg' -> 'data/processed\\\\train\\\\real_27936.jpg'",
      "\nDuring handling of the above exception, another exception occurred:\n",
      "\u001b[1;31mFileNotFoundError\u001b[0m                         Traceback (most recent call last)",
      "Cell \u001b[1;32mIn[15], line 1\u001b[0m\n\u001b[1;32m----> 1\u001b[0m \u001b[43msplit_and_move_data\u001b[49m\u001b[43m(\u001b[49m\u001b[43msplit_ratio\u001b[49m\u001b[43m)\u001b[49m\n",
      "Cell \u001b[1;32mIn[10], line 17\u001b[0m, in \u001b[0;36msplit_and_move_data\u001b[1;34m(split_ratio)\u001b[0m\n\u001b[0;32m     15\u001b[0m \u001b[38;5;66;03m# Move images to the 'train' directory\u001b[39;00m\n\u001b[0;32m     16\u001b[0m \u001b[38;5;28;01mfor\u001b[39;00m img_path \u001b[38;5;129;01min\u001b[39;00m train_images:\n\u001b[1;32m---> 17\u001b[0m     \u001b[43mshutil\u001b[49m\u001b[38;5;241;43m.\u001b[39;49m\u001b[43mmove\u001b[49m\u001b[43m(\u001b[49m\u001b[43mimg_path\u001b[49m\u001b[43m,\u001b[49m\u001b[43m \u001b[49m\u001b[43mos\u001b[49m\u001b[38;5;241;43m.\u001b[39;49m\u001b[43mpath\u001b[49m\u001b[38;5;241;43m.\u001b[39;49m\u001b[43mjoin\u001b[49m\u001b[43m(\u001b[49m\u001b[43mTRAIN_DIR\u001b[49m\u001b[43m,\u001b[49m\u001b[43m \u001b[49m\u001b[43mos\u001b[49m\u001b[38;5;241;43m.\u001b[39;49m\u001b[43mpath\u001b[49m\u001b[38;5;241;43m.\u001b[39;49m\u001b[43mbasename\u001b[49m\u001b[43m(\u001b[49m\u001b[43mimg_path\u001b[49m\u001b[43m)\u001b[49m\u001b[43m)\u001b[49m\u001b[43m)\u001b[49m\n\u001b[0;32m     19\u001b[0m \u001b[38;5;66;03m# Move images to the 'test' directory\u001b[39;00m\n\u001b[0;32m     20\u001b[0m \u001b[38;5;28;01mfor\u001b[39;00m img_path \u001b[38;5;129;01min\u001b[39;00m test_images:\n",
      "File \u001b[1;32m~\\anaconda3\\envs\\ADL\\lib\\shutil.py:845\u001b[0m, in \u001b[0;36mmove\u001b[1;34m(src, dst, copy_function)\u001b[0m\n\u001b[0;32m    843\u001b[0m         rmtree(src)\n\u001b[0;32m    844\u001b[0m     \u001b[38;5;28;01melse\u001b[39;00m:\n\u001b[1;32m--> 845\u001b[0m         \u001b[43mcopy_function\u001b[49m\u001b[43m(\u001b[49m\u001b[43msrc\u001b[49m\u001b[43m,\u001b[49m\u001b[43m \u001b[49m\u001b[43mreal_dst\u001b[49m\u001b[43m)\u001b[49m\n\u001b[0;32m    846\u001b[0m         os\u001b[38;5;241m.\u001b[39munlink(src)\n\u001b[0;32m    847\u001b[0m \u001b[38;5;28;01mreturn\u001b[39;00m real_dst\n",
      "File \u001b[1;32m~\\anaconda3\\envs\\ADL\\lib\\shutil.py:444\u001b[0m, in \u001b[0;36mcopy2\u001b[1;34m(src, dst, follow_symlinks)\u001b[0m\n\u001b[0;32m    442\u001b[0m \u001b[38;5;28;01mif\u001b[39;00m os\u001b[38;5;241m.\u001b[39mpath\u001b[38;5;241m.\u001b[39misdir(dst):\n\u001b[0;32m    443\u001b[0m     dst \u001b[38;5;241m=\u001b[39m os\u001b[38;5;241m.\u001b[39mpath\u001b[38;5;241m.\u001b[39mjoin(dst, os\u001b[38;5;241m.\u001b[39mpath\u001b[38;5;241m.\u001b[39mbasename(src))\n\u001b[1;32m--> 444\u001b[0m \u001b[43mcopyfile\u001b[49m\u001b[43m(\u001b[49m\u001b[43msrc\u001b[49m\u001b[43m,\u001b[49m\u001b[43m \u001b[49m\u001b[43mdst\u001b[49m\u001b[43m,\u001b[49m\u001b[43m \u001b[49m\u001b[43mfollow_symlinks\u001b[49m\u001b[38;5;241;43m=\u001b[39;49m\u001b[43mfollow_symlinks\u001b[49m\u001b[43m)\u001b[49m\n\u001b[0;32m    445\u001b[0m copystat(src, dst, follow_symlinks\u001b[38;5;241m=\u001b[39mfollow_symlinks)\n\u001b[0;32m    446\u001b[0m \u001b[38;5;28;01mreturn\u001b[39;00m dst\n",
      "File \u001b[1;32m~\\anaconda3\\envs\\ADL\\lib\\shutil.py:266\u001b[0m, in \u001b[0;36mcopyfile\u001b[1;34m(src, dst, follow_symlinks)\u001b[0m\n\u001b[0;32m    264\u001b[0m \u001b[38;5;28;01mwith\u001b[39;00m \u001b[38;5;28mopen\u001b[39m(src, \u001b[38;5;124m'\u001b[39m\u001b[38;5;124mrb\u001b[39m\u001b[38;5;124m'\u001b[39m) \u001b[38;5;28;01mas\u001b[39;00m fsrc:\n\u001b[0;32m    265\u001b[0m     \u001b[38;5;28;01mtry\u001b[39;00m:\n\u001b[1;32m--> 266\u001b[0m         \u001b[38;5;28;01mwith\u001b[39;00m \u001b[38;5;28;43mopen\u001b[39;49m\u001b[43m(\u001b[49m\u001b[43mdst\u001b[49m\u001b[43m,\u001b[49m\u001b[43m \u001b[49m\u001b[38;5;124;43m'\u001b[39;49m\u001b[38;5;124;43mwb\u001b[39;49m\u001b[38;5;124;43m'\u001b[39;49m\u001b[43m)\u001b[49m \u001b[38;5;28;01mas\u001b[39;00m fdst:\n\u001b[0;32m    267\u001b[0m             \u001b[38;5;66;03m# macOS\u001b[39;00m\n\u001b[0;32m    268\u001b[0m             \u001b[38;5;28;01mif\u001b[39;00m _HAS_FCOPYFILE:\n\u001b[0;32m    269\u001b[0m                 \u001b[38;5;28;01mtry\u001b[39;00m:\n",
      "\u001b[1;31mFileNotFoundError\u001b[0m: [Errno 2] No such file or directory: 'data/processed\\\\train\\\\real_27936.jpg'"
     ]
    }
   ],
   "source": [
    "split_and_move_data(split_ratio)"
   ]
  },
  {
   "cell_type": "code",
   "execution_count": null,
   "id": "2883205b-5c0a-41ab-982a-c6aa86fdb4c3",
   "metadata": {},
   "outputs": [],
   "source": []
  }
 ],
 "metadata": {
  "kernelspec": {
   "display_name": "Python ADL with GPU",
   "language": "python",
   "name": "adl"
  },
  "language_info": {
   "codemirror_mode": {
    "name": "ipython",
    "version": 3
   },
   "file_extension": ".py",
   "mimetype": "text/x-python",
   "name": "python",
   "nbconvert_exporter": "python",
   "pygments_lexer": "ipython3",
   "version": "3.9.18"
  }
 },
 "nbformat": 4,
 "nbformat_minor": 5
}
