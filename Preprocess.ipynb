{
 "cells": [
  {
   "cell_type": "code",
   "execution_count": 30,
   "id": "d8f33831-cf5e-46c1-9cee-669f2c632c52",
   "metadata": {},
   "outputs": [
    {
     "name": "stdout",
     "output_type": "stream",
     "text": [
      "True\n"
     ]
    }
   ],
   "source": [
    "import torch\n",
    "print(torch.cuda.is_available())"
   ]
  },
  {
   "cell_type": "code",
   "execution_count": 1,
   "id": "06a46dd4-eb5c-4924-9417-76728d66e182",
   "metadata": {},
   "outputs": [],
   "source": [
    "import os\n",
    "import shutil\n",
    "from torchvision import transforms\n",
    "from PIL import Image\n",
    "from tqdm import tqdm\n",
    "import random\n",
    "\n",
    "RAW_DIR = \"data/raw\"\n",
    "PROCESSED_DIR = \"data/processed\"\n",
    "CATEGORIES = [\"fake\", \"real\"]\n",
    "TRAIN_DIR = os.path.join(PROCESSED_DIR, \"train\")\n",
    "TEST_DIR = os.path.join(PROCESSED_DIR, \"test\")\n",
    "\n",
    "\n",
    "split_ratio = 0.1\n",
    "random.seed(42)\n",
    "\n",
    "\n",
    "BATCH_SIZE = 16\n",
    "IMAGE_SIZE = (1024, 1024)\n",
    "\n",
    "resize_transform = transforms.Compose([\n",
    "    transforms.Resize(IMAGE_SIZE)\n",
    "])\n",
    "\n",
    "augmentation_transforms = transforms.Compose([\n",
    "    transforms.Resize(IMAGE_SIZE),\n",
    "    transforms.RandomHorizontalFlip(p=0.5),\n",
    "    transforms.RandomVerticalFlip(p=0.5),\n",
    "    transforms.RandomRotation(degrees=30),\n",
    "    transforms.ColorJitter(brightness=0.3, contrast=0.4, saturation=0.3, hue=0.2),\n",
    "    transforms.ToTensor()\n",
    "])\n",
    "\n",
    "save_transform = transforms.ToPILImage()\n",
    "\n"
   ]
  },
  {
   "cell_type": "code",
   "execution_count": 2,
   "id": "ec525a5f-7c9b-4500-ab14-d8751564d310",
   "metadata": {},
   "outputs": [],
   "source": [
    "def process_images(category):    \n",
    "    raw_path = os.path.join(RAW_DIR, category)\n",
    "    processed_path = PROCESSED_DIR\n",
    "    os.makedirs(processed_path, exist_ok=True)\n",
    "\n",
    "    images = [os.path.join(raw_path, f) for f in os.listdir(raw_path) if f.endswith((\".png\", \".jpg\", \".jpeg\"))]\n",
    "\n",
    "    image_counter = 0\n",
    "    \n",
    "    for i in tqdm(range(0, len(images), BATCH_SIZE), desc=f\"Processing {category}\"):\n",
    "        batch = images[i:i + BATCH_SIZE]\n",
    "        for img_path in batch:\n",
    "            try:\n",
    "                img = Image.open(img_path).convert(\"RGB\")  # Kép betöltése\n",
    "\n",
    "                # Save a simple resized version\n",
    "                resized_img = resize_transform(img)\n",
    "                resized_save_path = os.path.join(processed_path, f\"{category}_{image_counter}.jpg\")\n",
    "                resized_img.save(resized_save_path)\n",
    "\n",
    "                image_counter += 1\n",
    "\n",
    "                # Save two augmented versions\n",
    "                for aug_idx in range(2):\n",
    "                    augmented_img = augmentation_transforms(img)  # Apply augmentation\n",
    "                    augmented_img = save_transform(augmented_img)  # Convert tensor to PIL image\n",
    "                    aug_save_path = os.path.join(processed_path, f\"{category}_{image_counter}.jpg\")\n",
    "                    augmented_img.save(aug_save_path)\n",
    "                    image_counter += 1\n",
    "\n",
    "            except Exception as e:\n",
    "                print(f\"Error processing {img_path}: {e}\")"
   ]
  },
  {
   "cell_type": "code",
   "execution_count": 3,
   "id": "d62c01a8-7813-4851-9523-b6b51dd11232",
   "metadata": {},
   "outputs": [
    {
     "name": "stderr",
     "output_type": "stream",
     "text": [
      "Processing fake:   0%|          | 0/34 [00:00<?, ?it/s]C:\\Users\\User\\anaconda3\\envs\\ADL\\lib\\site-packages\\PIL\\Image.py:959: UserWarning: Palette images with Transparency expressed in bytes should be converted to RGBA images\n",
      "  warnings.warn(\n",
      "Processing fake: 100%|██████████| 34/34 [03:15<00:00,  5.75s/it]\n",
      "Processing real: 100%|██████████| 28/28 [02:45<00:00,  5.91s/it]\n"
     ]
    }
   ],
   "source": [
    "if os.path.exists(PROCESSED_DIR):\n",
    "        shutil.rmtree(PROCESSED_DIR )\n",
    "\n",
    "for category in CATEGORIES:\n",
    "    process_images(category)"
   ]
  },
  {
   "cell_type": "code",
   "execution_count": 4,
   "id": "402324e0-0b31-40d0-a318-4d202f5c3ad4",
   "metadata": {},
   "outputs": [],
   "source": [
    "def split_and_move_data():\n",
    "    # Get all image paths from the processed directory\n",
    "    image_paths = [os.path.join(PROCESSED_DIR, f) for f in os.listdir(PROCESSED_DIR) if f.endswith((\".png\", \".jpg\", \".jpeg\"))]\n",
    "    \n",
    "    # Shuffle the image paths for random split\n",
    "    random.shuffle(image_paths)\n",
    "    \n",
    "    # Calculate the split index\n",
    "    split_index = int(len(image_paths) * split_ratio)\n",
    "    \n",
    "    # Split the images into train and test sets\n",
    "    train_images = image_paths[:split_index]\n",
    "    test_images = image_paths[split_index:]\n",
    "    \n",
    "    # Move images to the 'train' directory\n",
    "    for img_path in train_images:\n",
    "        shutil.move(img_path, os.path.join(TRAIN_DIR, os.path.basename(img_path)))\n",
    "    \n",
    "    # Move images to the 'test' directory\n",
    "    for img_path in test_images:\n",
    "        shutil.move(img_path, os.path.join(TEST_DIR, os.path.basename(img_path)))\n",
    "\n",
    "    print(f\"Total images: {len(image_paths)}\")\n",
    "    print(f\"Training set: {len(train_images)}\")\n",
    "    print(f\"Test set: {len(test_images)}\")"
   ]
  },
  {
   "cell_type": "code",
   "execution_count": 5,
   "id": "6ccc8d3e-5250-4aec-908d-0f4dcf22ae6f",
   "metadata": {},
   "outputs": [
    {
     "name": "stdout",
     "output_type": "stream",
     "text": [
      "Total images: 2910\n",
      "Training set: 291\n",
      "Test set: 2619\n"
     ]
    }
   ],
   "source": [
    "os.makedirs(TRAIN_DIR, exist_ok=True)\n",
    "os.makedirs(TEST_DIR, exist_ok=True)\n",
    "\n",
    "split_and_move_data()\n"
   ]
  },
  {
   "cell_type": "code",
   "execution_count": null,
   "id": "cd153626-f8f2-407c-be83-aab4aa1c44cf",
   "metadata": {},
   "outputs": [],
   "source": []
  },
  {
   "cell_type": "code",
   "execution_count": null,
   "id": "20b5f6d5-7a73-41c0-a085-af007ca63ad2",
   "metadata": {},
   "outputs": [],
   "source": []
  },
  {
   "cell_type": "code",
   "execution_count": null,
   "id": "e4095046-efbe-4cf0-8f00-4d2764178d20",
   "metadata": {},
   "outputs": [],
   "source": []
  }
 ],
 "metadata": {
  "kernelspec": {
   "display_name": "Python ADL with GPU",
   "language": "python",
   "name": "adl"
  },
  "language_info": {
   "codemirror_mode": {
    "name": "ipython",
    "version": 3
   },
   "file_extension": ".py",
   "mimetype": "text/x-python",
   "name": "python",
   "nbconvert_exporter": "python",
   "pygments_lexer": "ipython3",
   "version": "3.9.18"
  }
 },
 "nbformat": 4,
 "nbformat_minor": 5
}
