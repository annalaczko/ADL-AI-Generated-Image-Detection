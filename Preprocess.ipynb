{
 "cells": [
  {
   "cell_type": "markdown",
   "id": "59a5de98-cec0-4352-9ef5-2cca0c2f63d1",
   "metadata": {},
   "source": [
    "# Libraries"
   ]
  },
  {
   "cell_type": "code",
   "execution_count": 10,
   "id": "d8f33831-cf5e-46c1-9cee-669f2c632c52",
   "metadata": {},
   "outputs": [],
   "source": [
    "import torch\n",
    "import os\n",
    "import shutil\n",
    "from torchvision import transforms\n",
    "from PIL import Image\n",
    "from tqdm import tqdm\n",
    "import random\n",
    "from glob import glob\n",
    "import numpy as np\n",
    "import cv2\n"
   ]
  },
  {
   "cell_type": "markdown",
   "id": "c62a5e36-56aa-4eab-b5c3-72838cfb2ce5",
   "metadata": {},
   "source": [
    "# Preparation:\n"
   ]
  },
  {
   "cell_type": "markdown",
   "id": "2572f571-c4a7-421f-b3d0-bc6388913a63",
   "metadata": {},
   "source": [
    "Some global variables"
   ]
  },
  {
   "cell_type": "code",
   "execution_count": 11,
   "id": "b5c66aac-0a2c-42c5-a846-52a9e3238ba7",
   "metadata": {},
   "outputs": [],
   "source": [
    "RAW_DIR = \"data/raw/140k face\"\n",
    "PROCESSED_DIR = \"data/processed\"\n",
    "\n",
    "CATEGORIES = [\"fake\", \"real\"]\n",
    "TRAIN_DIR = os.path.join(PROCESSED_DIR, \"train/rgb\")\n",
    "VALID_DIR = os.path.join(PROCESSED_DIR, \"valid/rgb\")\n",
    "TEST_DIR = os.path.join(PROCESSED_DIR, \"test/rgb\")\n",
    "\n",
    "SHARPEN_TRAIN_DIR = os.path.join(PROCESSED_DIR, \"train/sharpen\")\n",
    "SHARPEN_VALID_DIR = os.path.join(PROCESSED_DIR, \"valid/sharpen\")\n",
    "SHARPEN_TEST_DIR = os.path.join(PROCESSED_DIR, \"test/sharpen\")\n",
    "\n",
    "EDGE_TRAIN_DIR = os.path.join(PROCESSED_DIR, \"train/edge\")\n",
    "EDGE_VALID_DIR = os.path.join(PROCESSED_DIR, \"valid/edge\")\n",
    "EDGE_TEST_DIR = os.path.join(PROCESSED_DIR, \"test/edge\")\n",
    "\n",
    "train_ratio = 0.7\n",
    "val_ratio = 0.2\n",
    "random.seed(12347556)\n",
    "\n",
    "AUG_AMOUNT=0\n",
    "BATCH_SIZE = 1000"
   ]
  },
  {
   "cell_type": "markdown",
   "id": "f2aba8e6-e9d5-4d20-b7e3-90a90771b49c",
   "metadata": {},
   "source": [
    "Delete the whole processed_dir structure"
   ]
  },
  {
   "cell_type": "code",
   "execution_count": 12,
   "id": "1418f296-507a-44fd-9952-6d1123d8a5b9",
   "metadata": {},
   "outputs": [],
   "source": [
    "if os.path.exists(PROCESSED_DIR):\n",
    "        shutil.rmtree(PROCESSED_DIR )"
   ]
  },
  {
   "cell_type": "markdown",
   "id": "c51b835f-7254-42e7-8892-220d21a10558",
   "metadata": {},
   "source": [
    "# Transformation"
   ]
  },
  {
   "cell_type": "markdown",
   "id": "0c2eb700-8113-4bd9-940c-7688f98e6e7d",
   "metadata": {},
   "source": [
    "The transformation structures"
   ]
  },
  {
   "cell_type": "markdown",
   "id": "950e6e3b-e9a2-46cb-8895-ee5858e2537c",
   "metadata": {},
   "source": [
    "Processing normal images"
   ]
  },
  {
   "cell_type": "code",
   "execution_count": 13,
   "id": "ec525a5f-7c9b-4500-ab14-d8751564d310",
   "metadata": {},
   "outputs": [],
   "source": [
    "def process_images(label, size):\n",
    "    print(f\"Working on {label}\")\n",
    "    raw_path = os.path.join(RAW_DIR, label)\n",
    "    processed_path = PROCESSED_DIR\n",
    "    os.makedirs(processed_path, exist_ok=True)\n",
    "\n",
    "    image_paths = [os.path.join(raw_path, f) for f in os.listdir(raw_path) if f.endswith((\".png\", \".jpg\", \".jpeg\"))]\n",
    "\n",
    "    random.shuffle(image_paths)\n",
    "    \n",
    "    # Calculate the split index\n",
    "    train_split_index = int(len(image_paths) * train_ratio)\n",
    "    val_split_index = int(len(image_paths) * (train_ratio + val_ratio))\n",
    "\n",
    "    train_paths = image_paths[:train_split_index]\n",
    "    val_paths = image_paths[train_split_index:val_split_index]\n",
    "    test_paths = image_paths[val_split_index:]\n",
    "\n",
    "    create_images(train_paths, \"train\", size, label)\n",
    "\n",
    "    create_images(val_paths, \"valid\", size, label)\n",
    "\n",
    "    # create_test(test_paths, \"test\", size, label)\n",
    "   "
   ]
  },
  {
   "cell_type": "code",
   "execution_count": 14,
   "id": "1d1adf3e-cf8a-4366-ab2e-4d01d47b7ca9",
   "metadata": {},
   "outputs": [],
   "source": [
    "def get_unique_filename(base_path, base_name, counter):\n",
    "\n",
    "    image_name=f\"{base_name}_{counter}.jpg\"\n",
    "    \n",
    "    while True:\n",
    "        filename = os.path.join(base_path, image_name)\n",
    "        if not os.path.exists(filename):\n",
    "            return image_name\n",
    "        counter += 1"
   ]
  },
  {
   "cell_type": "code",
   "execution_count": 15,
   "id": "96f3f864-4b3a-4abd-a1a0-7a4b5b92b66e",
   "metadata": {},
   "outputs": [],
   "source": [
    "def create_images(images, category, size, label):\n",
    "\n",
    "    resize_transform = transforms.Compose([\n",
    "        transforms.Resize(size),\n",
    "        transforms.ToTensor(),\n",
    "    ])\n",
    "    \n",
    "    augmentation_transforms = transforms.Compose([\n",
    "        transforms.RandomResizedCrop(size, scale=(0.7, 0.9)),\n",
    "        transforms.RandomApply([\n",
    "            transforms.ColorJitter(contrast=0.5) \n",
    "        ], p=0.5),\n",
    "        transforms.Resize(size),\n",
    "        transforms.ToTensor(),\n",
    "    ])\n",
    "    save_transform = transforms.ToPILImage()\n",
    "\n",
    "\n",
    "\n",
    "    ROOT_DIR=os.path.join(PROCESSED_DIR, f\"{size[0]}\")\n",
    "    \n",
    "    if (category==\"train\"):\n",
    "        rgb_path=os.path.join(ROOT_DIR, \"train/rgb\")\n",
    "        edge_path=os.path.join(ROOT_DIR, \"train/edge\")\n",
    "        sharpen_path=os.path.join(ROOT_DIR, \"train/sharpen\")\n",
    "    elif(category==\"valid\"):\n",
    "        rgb_path=os.path.join(ROOT_DIR, \"valid/rgb\")\n",
    "        edge_path=os.path.join(ROOT_DIR, \"valid/edge\")\n",
    "        sharpen_path=os.path.join(ROOT_DIR, \"valid/sharpen\")\n",
    "    else:\n",
    "        rgb_path=os.path.join(ROOT_DIR, \"test/rgb\")\n",
    "        edge_path=os.path.join(ROOT_DIR, \"test/edge\")\n",
    "        sharpen_path=os.path.join(ROOT_DIR, \"test/sharpen\")\n",
    "\n",
    "    os.makedirs(rgb_path, exist_ok=True)\n",
    "\n",
    "    image_counter=0\n",
    "    for i in tqdm(range(0, len(images), BATCH_SIZE), desc=f\"Processing {category}\"): #len(images)\n",
    "        batch = images[i:i + BATCH_SIZE]\n",
    "        for img_path in batch:\n",
    "\n",
    "            img = Image.open(img_path).convert(\"RGB\")  # Kép betöltése\n",
    "\n",
    "            resized_img_name = get_unique_filename(rgb_path, label, image_counter)\n",
    "\n",
    "                # Save a simple resized version\n",
    "            resized_img = resize_transform(img)\n",
    "            make_filters(resized_img, resized_img_name , edge_path, sharpen_path)\n",
    "            resized_img = save_transform(resized_img)\n",
    "\n",
    "\n",
    "            resized_img_path=os.path.join(rgb_path, resized_img_name)\n",
    "                \n",
    "            resized_img.save(resized_img_path)\n",
    "\n",
    "\n",
    "                \n",
    "            image_counter += 1\n",
    "\n",
    "            if (category==\"train\"):\n",
    "                for aug_idx in range(AUG_AMOUNT):\n",
    "                    aug_img_name= get_unique_filename(rgb_path, label, image_counter)\n",
    "                    \n",
    "                    aug_img = augmentation_transforms(img)  # Apply augmentation\n",
    "                    make_filters(aug_img, aug_img_name , edge_path, sharpen_path)\n",
    "    \n",
    "                    \n",
    "                    aug_img = save_transform(aug_img)  # Convert tensor to PIL image\n",
    "    \n",
    "    \n",
    "                    aug_img_path=os.path.join(rgb_path, aug_img_name)\n",
    "                        \n",
    "                    aug_img.save(aug_img_path)\n",
    "    \n",
    "                        \n",
    "                    image_counter += 1\n",
    "\n",
    "    \n",
    "    "
   ]
  },
  {
   "cell_type": "markdown",
   "id": "3857f830-cc92-4267-a52f-dbbfe2647391",
   "metadata": {},
   "source": [
    " move data into respective folder"
   ]
  },
  {
   "cell_type": "code",
   "execution_count": 16,
   "id": "25c4afca-9d8a-4e70-be56-e318e5121cfd",
   "metadata": {},
   "outputs": [],
   "source": [
    "def make_filters(tensor_image, filename, edge_path, sharpen_path):\n",
    "\n",
    "    image = tensor_image.permute(1, 2, 0).numpy()\n",
    "\n",
    "    os.makedirs(edge_path, exist_ok=True)\n",
    "    os.makedirs(sharpen_path, exist_ok=True)\n",
    "    \n",
    "    kernel_edge = np.array([[-1, -1, -1],\n",
    "                            [-1, 8, -1],\n",
    "                            [-1, -1, -1]])\n",
    "\n",
    "\n",
    "    kernel_sharpen = np.array([ [0, -1, 0],\n",
    "                                [-1, 5, -1],\n",
    "                                [0, -1, 0]])\n",
    "    \n",
    "    # Apply Edge Detection filter\n",
    "    edge_result = cv2.filter2D(image, -1, kernel_edge)\n",
    "\n",
    "    # Save the Edge Detection filtered image\n",
    "    edge_output_path = os.path.join(edge_path, filename)\n",
    "    cv2.imwrite(edge_output_path, edge_result)\n",
    "\n",
    "    # Apply Sharpen filter\n",
    "    sharpen_result = cv2.filter2D(image, -1, kernel_sharpen)\n",
    "\n",
    "    # Save the Sharpen filtered image\n",
    "    sharpen_output_path = os.path.join(sharpen_path, filename)\n",
    "    cv2.imwrite(sharpen_output_path, sharpen_result)"
   ]
  },
  {
   "cell_type": "code",
   "execution_count": 17,
   "id": "2883205b-5c0a-41ab-982a-c6aa86fdb4c3",
   "metadata": {},
   "outputs": [
    {
     "name": "stdout",
     "output_type": "stream",
     "text": [
      "Working on fake\n"
     ]
    },
    {
     "name": "stderr",
     "output_type": "stream",
     "text": [
      "Processing train: 100%|██████████| 112/112 [20:17<00:00, 10.87s/it]\n",
      "Processing valid: 100%|██████████| 32/32 [06:53<00:00, 12.92s/it]\n"
     ]
    },
    {
     "name": "stdout",
     "output_type": "stream",
     "text": [
      "Working on real\n"
     ]
    },
    {
     "name": "stderr",
     "output_type": "stream",
     "text": [
      "Processing train: 100%|██████████| 49/49 [11:03<00:00, 13.54s/it]\n",
      "Processing valid: 100%|██████████| 14/14 [02:51<00:00, 12.22s/it]\n"
     ]
    }
   ],
   "source": [
    "for cat in CATEGORIES:\n",
    "    process_images(cat, (32,32))"
   ]
  },
  {
   "cell_type": "code",
   "execution_count": 18,
   "id": "1d8943c0-8005-4ba0-bb06-abd2b059ae8c",
   "metadata": {},
   "outputs": [
    {
     "name": "stdout",
     "output_type": "stream",
     "text": [
      "Working on fake\n"
     ]
    },
    {
     "name": "stderr",
     "output_type": "stream",
     "text": [
      "Processing train: 100%|██████████| 112/112 [20:14<00:00, 10.84s/it]\n",
      "Processing valid: 100%|██████████| 32/32 [06:11<00:00, 11.62s/it]\n"
     ]
    },
    {
     "name": "stdout",
     "output_type": "stream",
     "text": [
      "Working on real\n"
     ]
    },
    {
     "name": "stderr",
     "output_type": "stream",
     "text": [
      "Processing train: 100%|██████████| 49/49 [09:47<00:00, 11.99s/it]\n",
      "Processing valid: 100%|██████████| 14/14 [02:38<00:00, 11.35s/it]\n"
     ]
    }
   ],
   "source": [
    "for cat in CATEGORIES:\n",
    "    process_images(cat, (64,64))"
   ]
  },
  {
   "cell_type": "code",
   "execution_count": 19,
   "id": "ae2456a3-a77c-4f89-a7b1-c0e6e25509c3",
   "metadata": {},
   "outputs": [
    {
     "name": "stdout",
     "output_type": "stream",
     "text": [
      "Working on fake\n"
     ]
    },
    {
     "name": "stderr",
     "output_type": "stream",
     "text": [
      "Processing train: 100%|██████████| 112/112 [25:41<00:00, 13.76s/it]\n",
      "Processing valid: 100%|██████████| 32/32 [07:26<00:00, 13.94s/it]\n"
     ]
    },
    {
     "name": "stdout",
     "output_type": "stream",
     "text": [
      "Working on real\n"
     ]
    },
    {
     "name": "stderr",
     "output_type": "stream",
     "text": [
      "Processing train: 100%|██████████| 49/49 [12:39<00:00, 15.49s/it]\n",
      "Processing valid: 100%|██████████| 14/14 [03:34<00:00, 15.30s/it]\n"
     ]
    }
   ],
   "source": [
    "for cat in CATEGORIES:\n",
    "    process_images(cat, (128,128))"
   ]
  },
  {
   "cell_type": "code",
   "execution_count": null,
   "id": "281ee5fd-12db-4ed4-a90b-6de3fcaf9bba",
   "metadata": {},
   "outputs": [],
   "source": []
  }
 ],
 "metadata": {
  "kernelspec": {
   "display_name": "Python ADL with GPU",
   "language": "python",
   "name": "adl"
  },
  "language_info": {
   "codemirror_mode": {
    "name": "ipython",
    "version": 3
   },
   "file_extension": ".py",
   "mimetype": "text/x-python",
   "name": "python",
   "nbconvert_exporter": "python",
   "pygments_lexer": "ipython3",
   "version": "3.9.18"
  }
 },
 "nbformat": 4,
 "nbformat_minor": 5
}
